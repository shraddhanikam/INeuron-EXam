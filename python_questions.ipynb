{
  "nbformat": 4,
  "nbformat_minor": 0,
  "metadata": {
    "colab": {
      "provenance": [],
      "authorship_tag": "ABX9TyNp/tzpxw+wvCkFrJwgG3JS",
      "include_colab_link": true
    },
    "kernelspec": {
      "name": "python3",
      "display_name": "Python 3"
    },
    "language_info": {
      "name": "python"
    }
  },
  "cells": [
    {
      "cell_type": "markdown",
      "metadata": {
        "id": "view-in-github",
        "colab_type": "text"
      },
      "source": [
        "<a href=\"https://colab.research.google.com/github/shraddhanikam/INeuron-EXam/blob/main/python_questions.ipynb\" target=\"_parent\"><img src=\"https://colab.research.google.com/assets/colab-badge.svg\" alt=\"Open In Colab\"/></a>"
      ]
    },
    {
      "cell_type": "code",
      "execution_count": 2,
      "metadata": {
        "colab": {
          "base_uri": "https://localhost:8080/"
        },
        "id": "V_0DdsFhS12U",
        "outputId": "9463621a-88f3-47b7-ddca-e21f18e21cfb"
      },
      "outputs": [
        {
          "output_type": "stream",
          "name": "stdout",
          "text": [
            "3\n"
          ]
        }
      ],
      "source": [
        "#question 2\n",
        "# Python code to implement the approach\n",
        "import math\n",
        "\n",
        "# Function to check if it is possible\n",
        "# to position the horse x distance apart\n",
        "def ok(v, x, c):\n",
        "\tn = len(v);\n",
        "\n",
        "\t# We already place it at the first\n",
        "\t# available slot i.e v[0](Greedy)\n",
        "\tcount = 1;\n",
        "\tlast = 0;\n",
        "\tfor i in range(0,n):\n",
        "\t\tif (v[i] - v[last] >= x) :\n",
        "\t\t\tlast = i; #horse placed\n",
        "\t\t\tcount+=1;\n",
        "\n",
        "\t\tif (count >= c) :\n",
        "\t\t\treturn True;\n",
        "\n",
        "\treturn False;\n",
        "\n",
        "# Function to find the maximum possible\n",
        "# minimum distance between the horse\n",
        "def aggressive_horse(v, n, k):\n",
        "\t# Just take l = 1 and high = M (MAX DIFF POSSIBLE)\n",
        "\t# M = last - first element in sorted array\n",
        "\tl = 0;\n",
        "\tr = v[n-1] - v[0];\n",
        "\tans = -1;\n",
        "\n",
        "\t# Applying Binary search\n",
        "\twhile (l<=r):\n",
        "\t\tmid = l + math.floor((r - l) / 2);\n",
        "\t\tif (ok(v, mid, k)):\n",
        "\t\t\tans = mid;\n",
        "\t\t\tl = mid + 1;\n",
        "\n",
        "\t\telse :\n",
        "\t\t\tr = mid - 1;\n",
        "\n",
        "\treturn ans;\n",
        "\n",
        "# Driver code\n",
        "K = 3;\n",
        "arr = [ 1, 2, 4, 8, 9 ];\n",
        "N = len(arr);\n",
        "\n",
        "# Function call\n",
        "ans = aggressive_horse(arr, N, K);\n",
        "print(ans);\n",
        "\n"
      ]
    },
    {
      "cell_type": "code",
      "source": [],
      "metadata": {
        "id": "CmfcniehWAvH"
      },
      "execution_count": null,
      "outputs": []
    },
    {
      "cell_type": "code",
      "source": [
        "# question no 3\n",
        "row,col = map(int,input().split(\" \"))\n",
        "ch = \".|.\"\n",
        "wel = \"WELCOME\"\n",
        "def upper(row,col,ch):\n",
        "    for i in range(row//2):\n",
        "        exp = ch*(2*i+1)\n",
        "        print(exp.center(col,\"-\"))\n",
        "\n",
        "def middle(row,col,wel):\n",
        "    print(wel.center(col,\"-\"))\n",
        "\n",
        "def bottom(row,col,ch):\n",
        "    for i in range(row//2):\n",
        "        exp = ch*((row-2)-2*i)\n",
        "        print(exp.center(col,\"-\"))\n",
        "\n",
        "if __name__ == \"__main__\":   # Calling functions\n",
        "    upper(row,col,ch)\n",
        "    middle(row,col,wel)\n",
        "    bottom(row,col,ch)"
      ],
      "metadata": {
        "colab": {
          "base_uri": "https://localhost:8080/"
        },
        "id": "CU7SxhCeUPAo",
        "outputId": "ca5870b0-592f-418c-ac95-9acc3d4436df"
      },
      "execution_count": 5,
      "outputs": [
        {
          "output_type": "stream",
          "name": "stdout",
          "text": [
            "7 21\n",
            "---------.|.---------\n",
            "------.|..|..|.------\n",
            "---.|..|..|..|..|.---\n",
            "-------WELCOME-------\n",
            "---.|..|..|..|..|.---\n",
            "------.|..|..|.------\n",
            "---------.|.---------\n"
          ]
        }
      ]
    },
    {
      "cell_type": "code",
      "source": [
        "dm = list(map(int, input().rstrip().split()))\n",
        "n=dm[0]\n",
        "m=dm[1]\n",
        "t=(m-7)//2\n",
        "k=(n//2)+1\n",
        "for i in range (1,n+1):\n",
        "    if i==k:\n",
        "        print('-'*t+'WELCOME'+'-'*t)\n",
        "    elif(i<k):\n",
        "        print('---'*(k-i)+('.|.'*(i))+('.|.'*(i-1))+('---'*(k-i)))\n",
        "    else:\n",
        "        print(('---'*(i-k))+('.|.'*(n-i+1))+('.|.'*(n-i))+('---'*(i-k)))"
      ],
      "metadata": {
        "colab": {
          "base_uri": "https://localhost:8080/"
        },
        "id": "041J8-zoU0k8",
        "outputId": "aed89923-9cf0-42b9-a89a-70507263f2fa"
      },
      "execution_count": 6,
      "outputs": [
        {
          "output_type": "stream",
          "name": "stdout",
          "text": [
            "11 33\n",
            "---------------.|.---------------\n",
            "------------.|..|..|.------------\n",
            "---------.|..|..|..|..|.---------\n",
            "------.|..|..|..|..|..|..|.------\n",
            "---.|..|..|..|..|..|..|..|..|.---\n",
            "-------------WELCOME-------------\n",
            "---.|..|..|..|..|..|..|..|..|.---\n",
            "------.|..|..|..|..|..|..|.------\n",
            "---------.|..|..|..|..|.---------\n",
            "------------.|..|..|.------------\n",
            "---------------.|.---------------\n"
          ]
        }
      ]
    },
    {
      "cell_type": "code",
      "source": [
        "# question no 1\n",
        "from pprint import pprint\n",
        "\n",
        "data = {\"abc\":{\"def\":{\"ghi\":{\"jkl\":{\"mno\":{\"pqr\":{\"stu\":{\"vwx\":{\"yz\":\"you are finally here !!!\"}}}}}}}}}\n",
        "\n",
        "def a_particular_style(data):\n",
        "    ret = {}\n",
        "    for k, v in data.items():\n",
        "        if isinstance(v, dict):\n",
        "            d = a_particular_style(v)\n",
        "            ret.update(d)\n",
        "            ret[k] = list(reversed(d))\n",
        "        else:\n",
        "            ret[k] = [v]\n",
        "    return ret\n",
        "\n",
        "pprint(a_particular_style(data))"
      ],
      "metadata": {
        "colab": {
          "base_uri": "https://localhost:8080/"
        },
        "id": "woEiVjE2U2FX",
        "outputId": "f3503507-6a85-4bf4-ff2e-2bfa4d73238e"
      },
      "execution_count": 7,
      "outputs": [
        {
          "output_type": "stream",
          "name": "stdout",
          "text": [
            "{'abc': ['def', 'ghi', 'jkl', 'mno', 'pqr', 'stu', 'vwx', 'yz'],\n",
            " 'def': ['ghi', 'jkl', 'mno', 'pqr', 'stu', 'vwx', 'yz'],\n",
            " 'ghi': ['jkl', 'mno', 'pqr', 'stu', 'vwx', 'yz'],\n",
            " 'jkl': ['mno', 'pqr', 'stu', 'vwx', 'yz'],\n",
            " 'mno': ['pqr', 'stu', 'vwx', 'yz'],\n",
            " 'pqr': ['stu', 'vwx', 'yz'],\n",
            " 'stu': ['vwx', 'yz'],\n",
            " 'vwx': ['yz'],\n",
            " 'yz': ['you are finally here !!!']}\n"
          ]
        }
      ]
    },
    {
      "cell_type": "code",
      "source": [
        "# question 4\n",
        "class Solution:\n",
        "    def fourSum(self, nums: List[int], target: int) -> List[List[int]]:\n",
        "        n = len(nums)\n",
        "        seen = set()\n",
        "        ans = set()\n",
        "        for i in range(n):\n",
        "            for j in range(i+1, n):\n",
        "                for k in range(j+1, n):\n",
        "                    lastNumber = target - nums[i] - nums[j] - nums[k]\n",
        "                    if lastNumber in seen:\n",
        "                        arr = sorted([nums[i], nums[j], nums[k], lastNumber])\n",
        "                        ans.add((arr[0], arr[1], arr[2], arr[3]))\n",
        "            seen.add(nums[i])\n",
        "        return ans"
      ],
      "metadata": {
        "colab": {
          "base_uri": "https://localhost:8080/",
          "height": 338
        },
        "id": "biyBbny-XU8C",
        "outputId": "f6877c9d-67e2-4a29-8c33-246facb6d756"
      },
      "execution_count": 13,
      "outputs": [
        {
          "output_type": "error",
          "ename": "NameError",
          "evalue": "name 'List' is not defined",
          "traceback": [
            "\u001b[0;31m---------------------------------------------------------------------------\u001b[0m",
            "\u001b[0;31mNameError\u001b[0m                                 Traceback (most recent call last)",
            "\u001b[0;32m<ipython-input-13-d2c3289e519b>\u001b[0m in \u001b[0;36m<cell line: 1>\u001b[0;34m()\u001b[0m\n\u001b[0;32m----> 1\u001b[0;31m \u001b[0;32mclass\u001b[0m \u001b[0mSolution\u001b[0m\u001b[0;34m:\u001b[0m\u001b[0;34m\u001b[0m\u001b[0;34m\u001b[0m\u001b[0m\n\u001b[0m\u001b[1;32m      2\u001b[0m     \u001b[0;32mdef\u001b[0m \u001b[0mfourSum\u001b[0m\u001b[0;34m(\u001b[0m\u001b[0mself\u001b[0m\u001b[0;34m,\u001b[0m \u001b[0mnums\u001b[0m\u001b[0;34m:\u001b[0m \u001b[0mList\u001b[0m\u001b[0;34m[\u001b[0m\u001b[0mint\u001b[0m\u001b[0;34m]\u001b[0m\u001b[0;34m,\u001b[0m \u001b[0mtarget\u001b[0m\u001b[0;34m:\u001b[0m \u001b[0mint\u001b[0m\u001b[0;34m)\u001b[0m \u001b[0;34m->\u001b[0m \u001b[0mList\u001b[0m\u001b[0;34m[\u001b[0m\u001b[0mList\u001b[0m\u001b[0;34m[\u001b[0m\u001b[0mint\u001b[0m\u001b[0;34m]\u001b[0m\u001b[0;34m]\u001b[0m\u001b[0;34m:\u001b[0m\u001b[0;34m\u001b[0m\u001b[0;34m\u001b[0m\u001b[0m\n\u001b[1;32m      3\u001b[0m         \u001b[0mn\u001b[0m \u001b[0;34m=\u001b[0m \u001b[0mlen\u001b[0m\u001b[0;34m(\u001b[0m\u001b[0mnums\u001b[0m\u001b[0;34m)\u001b[0m\u001b[0;34m\u001b[0m\u001b[0;34m\u001b[0m\u001b[0m\n\u001b[1;32m      4\u001b[0m         \u001b[0mseen\u001b[0m \u001b[0;34m=\u001b[0m \u001b[0mset\u001b[0m\u001b[0;34m(\u001b[0m\u001b[0;34m)\u001b[0m\u001b[0;34m\u001b[0m\u001b[0;34m\u001b[0m\u001b[0m\n\u001b[1;32m      5\u001b[0m         \u001b[0mans\u001b[0m \u001b[0;34m=\u001b[0m \u001b[0mset\u001b[0m\u001b[0;34m(\u001b[0m\u001b[0;34m)\u001b[0m\u001b[0;34m\u001b[0m\u001b[0;34m\u001b[0m\u001b[0m\n",
            "\u001b[0;32m<ipython-input-13-d2c3289e519b>\u001b[0m in \u001b[0;36mSolution\u001b[0;34m()\u001b[0m\n\u001b[1;32m      1\u001b[0m \u001b[0;32mclass\u001b[0m \u001b[0mSolution\u001b[0m\u001b[0;34m:\u001b[0m\u001b[0;34m\u001b[0m\u001b[0;34m\u001b[0m\u001b[0m\n\u001b[0;32m----> 2\u001b[0;31m     \u001b[0;32mdef\u001b[0m \u001b[0mfourSum\u001b[0m\u001b[0;34m(\u001b[0m\u001b[0mself\u001b[0m\u001b[0;34m,\u001b[0m \u001b[0mnums\u001b[0m\u001b[0;34m:\u001b[0m \u001b[0mList\u001b[0m\u001b[0;34m[\u001b[0m\u001b[0mint\u001b[0m\u001b[0;34m]\u001b[0m\u001b[0;34m,\u001b[0m \u001b[0mtarget\u001b[0m\u001b[0;34m:\u001b[0m \u001b[0mint\u001b[0m\u001b[0;34m)\u001b[0m \u001b[0;34m->\u001b[0m \u001b[0mList\u001b[0m\u001b[0;34m[\u001b[0m\u001b[0mList\u001b[0m\u001b[0;34m[\u001b[0m\u001b[0mint\u001b[0m\u001b[0;34m]\u001b[0m\u001b[0;34m]\u001b[0m\u001b[0;34m:\u001b[0m\u001b[0;34m\u001b[0m\u001b[0;34m\u001b[0m\u001b[0m\n\u001b[0m\u001b[1;32m      3\u001b[0m         \u001b[0mn\u001b[0m \u001b[0;34m=\u001b[0m \u001b[0mlen\u001b[0m\u001b[0;34m(\u001b[0m\u001b[0mnums\u001b[0m\u001b[0;34m)\u001b[0m\u001b[0;34m\u001b[0m\u001b[0;34m\u001b[0m\u001b[0m\n\u001b[1;32m      4\u001b[0m         \u001b[0mseen\u001b[0m \u001b[0;34m=\u001b[0m \u001b[0mset\u001b[0m\u001b[0;34m(\u001b[0m\u001b[0;34m)\u001b[0m\u001b[0;34m\u001b[0m\u001b[0;34m\u001b[0m\u001b[0m\n\u001b[1;32m      5\u001b[0m         \u001b[0mans\u001b[0m \u001b[0;34m=\u001b[0m \u001b[0mset\u001b[0m\u001b[0;34m(\u001b[0m\u001b[0;34m)\u001b[0m\u001b[0;34m\u001b[0m\u001b[0;34m\u001b[0m\u001b[0m\n",
            "\u001b[0;31mNameError\u001b[0m: name 'List' is not defined"
          ]
        }
      ]
    }
  ]
}